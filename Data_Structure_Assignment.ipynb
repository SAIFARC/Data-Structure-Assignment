{
  "nbformat": 4,
  "nbformat_minor": 0,
  "metadata": {
    "colab": {
      "provenance": [],
      "collapsed_sections": [
        "s1LjjfVtksQp"
      ]
    },
    "kernelspec": {
      "name": "python3",
      "display_name": "Python 3"
    },
    "language_info": {
      "name": "python"
    }
  },
  "cells": [
    {
      "cell_type": "markdown",
      "source": [
        "#Data Types and Structures Questions"
      ],
      "metadata": {
        "id": "TkvnucQ6jjlC"
      }
    },
    {
      "cell_type": "markdown",
      "source": [
        "#Theory Questions"
      ],
      "metadata": {
        "id": "s1LjjfVtksQp"
      }
    },
    {
      "cell_type": "markdown",
      "source": [
        "1. What are data structures, and why are they important?\n",
        " - Data Structures are various format for oraganising and storing datas to easily identify and access. its efficient ways to provide data or info based on it characters or formats as per its usage."
      ],
      "metadata": {
        "id": "kzXncmU6RRIv"
      }
    },
    {
      "cell_type": "markdown",
      "source": [
        "2.   Explain the difference between mutable and immutable data types with examples?\n",
        " -  MUTABLE DATA TYPES: allows to edit/modify, add/remove the stored data or value in the data type. >>eg. Data Types: List, sets & dictionary\n",
        "IMMUTABLE DATA TYPES: doesn't allows any modification to the stored data. >>eg. Data Type: Tuple."
      ],
      "metadata": {
        "id": "fRHm1VcFRpJ5"
      }
    },
    {
      "cell_type": "markdown",
      "source": [
        "3. What are the main differences between lists and tuples in Python?\n",
        " - the main difference between list and tuples is that lists are mutable data type and tuples are immutable data type."
      ],
      "metadata": {
        "id": "WKVshd1bRwwP"
      }
    },
    {
      "cell_type": "markdown",
      "source": [
        "4. Describe how dictionaries store data?\n",
        " - dictionaries store data in pairs like specific value for the specific container/ key in the data type\n",
        "  eg. Box: item OR Key: value."
      ],
      "metadata": {
        "id": "WZWtLLcZR6N4"
      }
    },
    {
      "cell_type": "markdown",
      "source": [
        "5. Why might you use a set instead of a list in Python?\n",
        " - sets are used to store unique elements which means it doesn't allow duplicate and it also stores data unordered which means its not guaranteed ordered elements."
      ],
      "metadata": {
        "id": "oW7LykV-SCgR"
      }
    },
    {
      "cell_type": "markdown",
      "source": [
        "6. What is a string in Python, and how is it different from a list?\n",
        " - String is a sequence of character which is writen inside single quotes, double quotes & triple quotes and strings are immutable element."
      ],
      "metadata": {
        "id": "EKNjnu0gSXh3"
      }
    },
    {
      "cell_type": "markdown",
      "source": [
        "7.  How do tuples ensure data integrity in Python?\n",
        " - Tuples are immutable data type, which means you cannot modify, add or removing anything in it which makes tuples ensure data integrity."
      ],
      "metadata": {
        "id": "jYXcdVtMSs3V"
      }
    },
    {
      "cell_type": "markdown",
      "source": [
        "8. What is a hash table, and how does it relate to dictionaries in Python?\n",
        "has table is a way to directly access the data elements stored in dictionaries.\n",
        " - i don't remember it was taught in this module, not sure"
      ],
      "metadata": {
        "id": "CGrJmP22S9fD"
      }
    },
    {
      "cell_type": "markdown",
      "source": [
        "9. Can lists contain different data types in Python?\n",
        " - Yes, List can contain different data types in python."
      ],
      "metadata": {
        "id": "4VJ20k2LS_yX"
      }
    },
    {
      "cell_type": "markdown",
      "source": [
        "10.  Explain why strings are immutable in Python?\n",
        " -"
      ],
      "metadata": {
        "id": "Qe907maxTD1I"
      }
    },
    {
      "cell_type": "markdown",
      "source": [
        "11. What advantages do dictionaries offer over lists for certain tasks?\n",
        " - you can store key value pair datas in dictionaries or more structured datas in a nested way like employee info, students info, or we can say multiple data of a subject"
      ],
      "metadata": {
        "id": "1fGMW2TaTI2D"
      }
    },
    {
      "cell_type": "markdown",
      "source": [
        "12. Describe a scenario where using a tuple would be preferable over a list.\n",
        " - lest suppose a dance comnpetition couples list info"
      ],
      "metadata": {
        "id": "-BAjsSK2TMWJ"
      }
    },
    {
      "cell_type": "markdown",
      "source": [
        "13. How do sets handle duplicate values in Python?\n",
        " - it ignores it, meaning it doesn't stores the duplicate value because sets are used to store unique elements."
      ],
      "metadata": {
        "id": "WdTvidTzTQmQ"
      }
    },
    {
      "cell_type": "markdown",
      "source": [
        "14. How does the “in” keyword work differently for lists and dictionaries.\n",
        " - In lists, the \"in\" keyword checks whether a given element exists in the list.\n",
        "\n",
        "In dictionaries, the \"in\" keyword checks for the presence of a key only, not values.\n"
      ],
      "metadata": {
        "id": "Cutewe0gTU3g"
      }
    },
    {
      "cell_type": "markdown",
      "source": [
        "15. Can you modify the elements of a tuple? Explain why or why not.\n",
        " - no you canbnot modify the elements in tuple after creating it because tuple elements use hashcodes"
      ],
      "metadata": {
        "id": "vxwbMJx_TdDb"
      }
    },
    {
      "cell_type": "markdown",
      "source": [
        "16. What is a nested dictionary, and give an example of its use case?\n",
        " - A nested dictionary is a dictionary that contains another dictionary as a key value. example of use case: Student info, Employee Info, etc. basically its a whole detailed info about of a subject or list."
      ],
      "metadata": {
        "id": "pQHapJkeTh7Z"
      }
    },
    {
      "cell_type": "markdown",
      "source": [
        "17.  Describe the time complexity of accessing elements in a dictionary.\n",
        " - faster access."
      ],
      "metadata": {
        "id": "AYK174OhTlv3"
      }
    },
    {
      "cell_type": "markdown",
      "source": [
        "18. In what situations are lists preferred over dictionaries?\n",
        " - when you have to store various types of data you must prefer the lists over dictionaries because a dictionary can only contain items in the form of key: value pairs."
      ],
      "metadata": {
        "id": "H3O_ZLCxTn1O"
      }
    },
    {
      "cell_type": "markdown",
      "source": [
        "19. Why are dictionaries considered unordered, and how does that affect data retrieval?\n",
        " - Dictionaries are considered unordered because items are accessed by keys, instead of indexing. The unorder syle of items doesn't affect data retrieval as long as you know the key, you can retrieve its value directly."
      ],
      "metadata": {
        "id": "_ST4_aNkTtO1"
      }
    },
    {
      "cell_type": "markdown",
      "source": [
        "20. Explain the difference between a list and a dictionary in terms of data retrieval.\n",
        " - in terms of data retrieval, the difference between list and dictionary is that items in list are accessed through indexing while items in dictionary is accessed directly by hash table"
      ],
      "metadata": {
        "id": "sXBIjB7PTwj5"
      }
    },
    {
      "cell_type": "markdown",
      "source": [
        "#Practical Questions"
      ],
      "metadata": {
        "id": "07wOt2QsTYcE"
      }
    },
    {
      "cell_type": "code",
      "source": [
        "#1. Write a code to create a string with your name and print it.\n",
        "\n",
        "name = \"Saif\"\n",
        "print(name)"
      ],
      "metadata": {
        "colab": {
          "base_uri": "https://localhost:8080/"
        },
        "id": "E5X2zqJKkimx",
        "outputId": "85991b2a-dfae-479c-978a-a4b81a535c0b"
      },
      "execution_count": 1,
      "outputs": [
        {
          "output_type": "stream",
          "name": "stdout",
          "text": [
            "Saif\n"
          ]
        }
      ]
    },
    {
      "cell_type": "code",
      "source": [
        "#2. Write a code to find the length of the string \"Hello World\".\n",
        "\n",
        "my_str = \"Hello World\"\n",
        "len(my_str)"
      ],
      "metadata": {
        "colab": {
          "base_uri": "https://localhost:8080/"
        },
        "id": "odXwfPG9mGhx",
        "outputId": "5bbf7c6f-71d2-4be5-daa3-fcc7e15efd8d"
      },
      "execution_count": 2,
      "outputs": [
        {
          "output_type": "execute_result",
          "data": {
            "text/plain": [
              "11"
            ]
          },
          "metadata": {},
          "execution_count": 2
        }
      ]
    },
    {
      "cell_type": "code",
      "source": [
        "#3. Write a code to slice the first 3 characters from the string \"Python Programming\".\n",
        "\n",
        "p =  \"Python Programming\"\n",
        "p[0:3]"
      ],
      "metadata": {
        "colab": {
          "base_uri": "https://localhost:8080/",
          "height": 36
        },
        "id": "ZiBChEbhnFR9",
        "outputId": "20e4ee2e-c11d-4cec-a133-75295e30d163"
      },
      "execution_count": 3,
      "outputs": [
        {
          "output_type": "execute_result",
          "data": {
            "text/plain": [
              "'Pyt'"
            ],
            "application/vnd.google.colaboratory.intrinsic+json": {
              "type": "string"
            }
          },
          "metadata": {},
          "execution_count": 3
        }
      ]
    },
    {
      "cell_type": "code",
      "source": [
        "#4. Write a code to convert the string \"hello\" to uppercase.\n",
        "\n",
        "Caps = \"hello\"\n",
        "B = Caps.upper()\n",
        "print(B)"
      ],
      "metadata": {
        "colab": {
          "base_uri": "https://localhost:8080/"
        },
        "id": "MUrFR8csnmDl",
        "outputId": "9d6f36c9-9e32-43ee-9b2a-11c4e61146f8"
      },
      "execution_count": 8,
      "outputs": [
        {
          "output_type": "stream",
          "name": "stdout",
          "text": [
            "HELLO\n"
          ]
        }
      ]
    },
    {
      "cell_type": "code",
      "source": [
        "#5. Write a code to replace the word \"apple\" with \"orange\" in the string \"I like apple\".\n",
        "\n",
        "fruit = \"I like apple\"\n",
        "fruit = fruit.replace(\"apple\", \"orange\")\n",
        "print(fruit)"
      ],
      "metadata": {
        "colab": {
          "base_uri": "https://localhost:8080/"
        },
        "id": "aWzNDYoC17aJ",
        "outputId": "d826e533-a897-4048-9367-cca738911e79"
      },
      "execution_count": 12,
      "outputs": [
        {
          "output_type": "stream",
          "name": "stdout",
          "text": [
            "I like orange\n"
          ]
        }
      ]
    },
    {
      "cell_type": "code",
      "source": [
        "#6. Write a code to create a list with numbers 1 to 5 and print it.\n",
        "\n",
        "my_list = list(range(1,6))\n",
        "print(my_list)"
      ],
      "metadata": {
        "colab": {
          "base_uri": "https://localhost:8080/"
        },
        "id": "1NfLsGMC3iUN",
        "outputId": "5dc93837-76fe-4597-8bd2-18d3fb4e1d92"
      },
      "execution_count": 13,
      "outputs": [
        {
          "output_type": "stream",
          "name": "stdout",
          "text": [
            "[1, 2, 3, 4, 5]\n"
          ]
        }
      ]
    },
    {
      "cell_type": "code",
      "source": [
        "#7. Write a code to append the number 10 to the list [1, 2, 3, 4].\n",
        "\n",
        "a = [1, 2, 3, 4]\n",
        "a.append(10)\n",
        "print(a)"
      ],
      "metadata": {
        "colab": {
          "base_uri": "https://localhost:8080/"
        },
        "id": "WOCLynsf4wiZ",
        "outputId": "76d20ea9-1806-4de4-f647-bfb31acaf803"
      },
      "execution_count": 16,
      "outputs": [
        {
          "output_type": "stream",
          "name": "stdout",
          "text": [
            "[1, 2, 3, 4, 10]\n"
          ]
        }
      ]
    },
    {
      "cell_type": "code",
      "source": [
        "#8. Write a code to remove the number 3 from the list [1, 2, 3, 4, 5].\n",
        "\n",
        "b_list = [1, 2, 3, 4, 5]\n",
        "b_list.remove(3)\n",
        "print(b_list)"
      ],
      "metadata": {
        "colab": {
          "base_uri": "https://localhost:8080/"
        },
        "id": "AdRREvez5nBU",
        "outputId": "8ef383d0-1bfd-4ba6-dff9-23f5b4165a35"
      },
      "execution_count": 18,
      "outputs": [
        {
          "output_type": "stream",
          "name": "stdout",
          "text": [
            "[1, 2, 4, 5]\n"
          ]
        }
      ]
    },
    {
      "cell_type": "code",
      "source": [
        "#9. Write a code to access the second element in the list ['a', 'b', 'c', 'd'].\n",
        "\n",
        "x = ['a', 'b', 'c', 'd']\n",
        "x[1]"
      ],
      "metadata": {
        "colab": {
          "base_uri": "https://localhost:8080/",
          "height": 36
        },
        "id": "YfLBn9-j6quR",
        "outputId": "6aec3f6b-cf19-4043-b544-2cb712d5bc24"
      },
      "execution_count": 19,
      "outputs": [
        {
          "output_type": "execute_result",
          "data": {
            "text/plain": [
              "'b'"
            ],
            "application/vnd.google.colaboratory.intrinsic+json": {
              "type": "string"
            }
          },
          "metadata": {},
          "execution_count": 19
        }
      ]
    },
    {
      "cell_type": "code",
      "source": [
        "#10. Write a code to reverse the list [10, 20, 30, 40, 50].\n",
        "\n",
        "r = [10, 20, 30, 40, 50]\n",
        "r.reverse()\n",
        "print(r)"
      ],
      "metadata": {
        "colab": {
          "base_uri": "https://localhost:8080/"
        },
        "id": "VNFVlCdK7uY3",
        "outputId": "61703cd3-12ea-4aa0-feba-86ac2684724c"
      },
      "execution_count": 21,
      "outputs": [
        {
          "output_type": "stream",
          "name": "stdout",
          "text": [
            "[50, 40, 30, 20, 10]\n"
          ]
        }
      ]
    },
    {
      "cell_type": "code",
      "source": [
        "#11. Write a code to create a tuple with the elements 100, 200, 300 and print it.\n",
        "\n",
        "my_tuple = (100, 200, 300)\n",
        "print(my_tuple)\n",
        "print(type(my_tuple))\n"
      ],
      "metadata": {
        "colab": {
          "base_uri": "https://localhost:8080/"
        },
        "id": "VmQpIyDQ8dCQ",
        "outputId": "dd796873-4f3b-431d-f254-9c03e4966393"
      },
      "execution_count": 23,
      "outputs": [
        {
          "output_type": "stream",
          "name": "stdout",
          "text": [
            "(100, 200, 300)\n",
            "<class 'tuple'>\n"
          ]
        }
      ]
    },
    {
      "cell_type": "code",
      "source": [
        "#12. Write a code to access the second-to-last element of the tuple ('red', 'green', 'blue', 'yellow').\n",
        "\n",
        "x = ('red', 'green', 'blue', 'yellow')\n",
        "x[1:]"
      ],
      "metadata": {
        "colab": {
          "base_uri": "https://localhost:8080/"
        },
        "id": "hJcy7V4z9vCv",
        "outputId": "06cf66d6-c20f-453c-e35d-02067d8f7f11"
      },
      "execution_count": 30,
      "outputs": [
        {
          "output_type": "execute_result",
          "data": {
            "text/plain": [
              "('green', 'blue', 'yellow')"
            ]
          },
          "metadata": {},
          "execution_count": 30
        }
      ]
    },
    {
      "cell_type": "code",
      "source": [
        "#13. Write a code to find the minimum number in the tuple (10, 20, 5, 15).\n",
        "num = (10, 20, 5, 15)\n",
        "min(num)"
      ],
      "metadata": {
        "colab": {
          "base_uri": "https://localhost:8080/"
        },
        "id": "0Zgec9VlAgon",
        "outputId": "e99c3e9f-78f9-442c-8f38-d2e842596855"
      },
      "execution_count": 31,
      "outputs": [
        {
          "output_type": "execute_result",
          "data": {
            "text/plain": [
              "5"
            ]
          },
          "metadata": {},
          "execution_count": 31
        }
      ]
    },
    {
      "cell_type": "code",
      "source": [
        "#14. Write a code to find the index of the element \"cat\" in the tuple ('dog', 'cat', 'rabbit').\n",
        "\n",
        "pet = ('dog', 'cat', 'rabbit')\n",
        "pet.index(\"cat\")"
      ],
      "metadata": {
        "colab": {
          "base_uri": "https://localhost:8080/"
        },
        "id": "rJAtfuS0BH_9",
        "outputId": "85879d6a-d733-4d9e-e768-3c0030a3b993"
      },
      "execution_count": 33,
      "outputs": [
        {
          "output_type": "execute_result",
          "data": {
            "text/plain": [
              "1"
            ]
          },
          "metadata": {},
          "execution_count": 33
        }
      ]
    },
    {
      "cell_type": "code",
      "source": [
        "#15. Write a code to create a tuple containing three different fruits and check if \"kiwi\" is in it.\n",
        "\n",
        "fruits = (\"orange\", \"kiwi\", \"banana\", \"mango\")\n",
        "print(\"kiwi\" in fruits)"
      ],
      "metadata": {
        "colab": {
          "base_uri": "https://localhost:8080/"
        },
        "id": "EL5J-DL_CHQh",
        "outputId": "9efb6973-ce7b-4531-f17e-cc70d1693b2f"
      },
      "execution_count": 35,
      "outputs": [
        {
          "output_type": "stream",
          "name": "stdout",
          "text": [
            "True\n"
          ]
        }
      ]
    },
    {
      "cell_type": "code",
      "source": [
        "#16. Write a code to create a set with the elements 'a', 'b', 'c' and print it.\n",
        "\n",
        "my_set = {'a', 'b', 'c'}\n",
        "print(my_set)"
      ],
      "metadata": {
        "colab": {
          "base_uri": "https://localhost:8080/"
        },
        "id": "_vK1kFEfC_E9",
        "outputId": "548a7fa3-f700-426c-9b41-431d76c5cb94"
      },
      "execution_count": 37,
      "outputs": [
        {
          "output_type": "stream",
          "name": "stdout",
          "text": [
            "{'c', 'a', 'b'}\n"
          ]
        }
      ]
    },
    {
      "cell_type": "code",
      "source": [
        "#17. Write a code to clear all elements from the set {1, 2, 3, 4, 5}.\n",
        "\n",
        "my_set = {1, 2, 3, 4, 5}\n",
        "my_set.clear()\n",
        "print(my_set)"
      ],
      "metadata": {
        "colab": {
          "base_uri": "https://localhost:8080/"
        },
        "id": "YYnl5DzvEshq",
        "outputId": "c940eaf2-8d78-48a1-a84f-af5b3c964ebf"
      },
      "execution_count": 38,
      "outputs": [
        {
          "output_type": "stream",
          "name": "stdout",
          "text": [
            "set()\n"
          ]
        }
      ]
    },
    {
      "cell_type": "code",
      "source": [
        "#18. Write a code to remove the element 4 from the set {1, 2, 3, 4}.\n",
        "\n",
        "my_set = {1, 2, 3, 4}\n",
        "my_set.remove(4)\n",
        "print(my_set)"
      ],
      "metadata": {
        "colab": {
          "base_uri": "https://localhost:8080/"
        },
        "id": "34W9u89MMKSi",
        "outputId": "51487571-8f6f-495c-ac79-0376ab0fd28b"
      },
      "execution_count": 39,
      "outputs": [
        {
          "output_type": "stream",
          "name": "stdout",
          "text": [
            "{1, 2, 3}\n"
          ]
        }
      ]
    },
    {
      "cell_type": "code",
      "source": [
        "#19. Write a code to find the union of two sets {1, 2, 3} and {3, 4, 5}.\n",
        "\n",
        "set1 = {1, 2, 3}\n",
        "set2 = {3, 4, 5}\n",
        "union_set = set1 | set2\n",
        "print(union_set)"
      ],
      "metadata": {
        "colab": {
          "base_uri": "https://localhost:8080/"
        },
        "id": "aoTHDoMQMtv_",
        "outputId": "fbdbbabb-d5eb-4601-bbcb-b6fb20bb9fe4"
      },
      "execution_count": 41,
      "outputs": [
        {
          "output_type": "stream",
          "name": "stdout",
          "text": [
            "{1, 2, 3, 4, 5}\n"
          ]
        }
      ]
    },
    {
      "cell_type": "code",
      "source": [
        "#20. Write a code to find the intersection of two sets {1, 2, 3} and {2, 3, 4}.\n",
        "\n",
        "set1 = {1, 2, 3}\n",
        "set2 = {2, 3, 4}\n",
        "intersected_set = set1 ^ set2\n",
        "print(intersected_set)"
      ],
      "metadata": {
        "colab": {
          "base_uri": "https://localhost:8080/"
        },
        "id": "lnyQop-GUDXw",
        "outputId": "d2538d0e-2709-4eeb-be8d-c6b38820d0ec"
      },
      "execution_count": 42,
      "outputs": [
        {
          "output_type": "stream",
          "name": "stdout",
          "text": [
            "{1, 4}\n"
          ]
        }
      ]
    },
    {
      "cell_type": "code",
      "source": [
        "#21. Write a code to create a dictionary with the keys \"name\", \"age\", and \"city\", and print it.\n",
        "\n",
        "person = {\"name\": \"N/A\", \"age\": \"N/A\", \"city\": \"N/A\"}\n",
        "print(person)\n",
        "print(type(person))"
      ],
      "metadata": {
        "colab": {
          "base_uri": "https://localhost:8080/"
        },
        "id": "gGiqt3evVH-y",
        "outputId": "080f5ca6-23e4-4d94-f9d0-f9b3a07f27da"
      },
      "execution_count": 50,
      "outputs": [
        {
          "output_type": "stream",
          "name": "stdout",
          "text": [
            "{'name': 'N/A', 'age': 'N/A', 'city': 'N/A'}\n",
            "<class 'dict'>\n"
          ]
        }
      ]
    },
    {
      "cell_type": "code",
      "source": [
        "#22. Write a code to add a new key–value pair \"country\": \"USA\" to the dictionary {'name': 'John', 'age': 25}.\n",
        "\n",
        "person = {'name': 'John', 'age': 25}\n",
        "person[\"country\"] = \"USA\"\n",
        "print(person)"
      ],
      "metadata": {
        "colab": {
          "base_uri": "https://localhost:8080/"
        },
        "id": "hsFa7jcJXGCx",
        "outputId": "d421c379-5aad-44e1-cde9-c6f8b0a5e6f2"
      },
      "execution_count": 52,
      "outputs": [
        {
          "output_type": "stream",
          "name": "stdout",
          "text": [
            "{'name': 'John', 'age': 25, 'country': 'USA'}\n"
          ]
        }
      ]
    },
    {
      "cell_type": "code",
      "source": [
        "#23. Write a code to access the value associated with the key \"name\" in the dictionary {'name': 'Alice', 'age': 30}.\n",
        "\n",
        "person = {'name': 'Alice', 'age': 30}\n",
        "person['name']"
      ],
      "metadata": {
        "colab": {
          "base_uri": "https://localhost:8080/",
          "height": 36
        },
        "id": "yFwi7tFVcdCF",
        "outputId": "ad034ba2-7d14-4661-c178-04da2b19b5ca"
      },
      "execution_count": 55,
      "outputs": [
        {
          "output_type": "execute_result",
          "data": {
            "text/plain": [
              "'Alice'"
            ],
            "application/vnd.google.colaboratory.intrinsic+json": {
              "type": "string"
            }
          },
          "metadata": {},
          "execution_count": 55
        }
      ]
    },
    {
      "cell_type": "code",
      "source": [
        "#24. Write a code to remove the key \"age\" from the dictionary {'name': 'Bob', 'age': 22, 'city': 'New York'}.\n",
        "\n",
        "person = {'name': 'Bob', 'age': 22, 'city': 'New York'}\n",
        "del person[\"age\"]\n",
        "print(person)"
      ],
      "metadata": {
        "colab": {
          "base_uri": "https://localhost:8080/"
        },
        "id": "mf15zaIhdVvX",
        "outputId": "20e6aa2f-37d6-4baf-f539-d4f0a2fa6bc8"
      },
      "execution_count": 58,
      "outputs": [
        {
          "output_type": "stream",
          "name": "stdout",
          "text": [
            "{'name': 'Bob', 'city': 'New York'}\n"
          ]
        }
      ]
    },
    {
      "cell_type": "code",
      "source": [
        "#25. Write a code to check if the key \"city\" exists in the dictionary {'name': 'Alice', 'city': 'Paris'}.\n",
        "\n",
        "person = {'name': 'Alice', 'city': 'Paris'}\n",
        "if \"city\" in person:\n",
        "  print(\"YES, The key 'city' exists...\")\n",
        "else:\n",
        "  print(\"NO, The key 'city' does not exists...\")"
      ],
      "metadata": {
        "colab": {
          "base_uri": "https://localhost:8080/"
        },
        "id": "dRjK5BARe7wS",
        "outputId": "efb1a297-2cff-4511-c3ca-4808de0299f0"
      },
      "execution_count": 67,
      "outputs": [
        {
          "output_type": "stream",
          "name": "stdout",
          "text": [
            "YES, The key 'city' exists...\n"
          ]
        }
      ]
    },
    {
      "cell_type": "code",
      "source": [
        "#26. Write a code to create a list, a tuple, and a dictionary, and print them all.\n",
        "\n",
        "boys = [\"Rahul\", \"Saif\", \"Raj\",]\n",
        "girls = (\"Sofia\", \"Jasmine\", \"Naina\")\n",
        "couples = {\"Saif\":\"Naina\", \"Rahul\":\"Sofia\", \"Raj\": \"Jasmine\" }\n",
        "print(boys)\n",
        "print(girls)\n",
        "print(couples)"
      ],
      "metadata": {
        "colab": {
          "base_uri": "https://localhost:8080/"
        },
        "id": "PEpH-NiMiJhc",
        "outputId": "0a38d2d7-67f7-4d26-f061-a5a4482f8f6b"
      },
      "execution_count": 71,
      "outputs": [
        {
          "output_type": "stream",
          "name": "stdout",
          "text": [
            "['Rahul', 'Saif', 'Raj']\n",
            "('Sofia', 'Jasmine', 'Naina')\n",
            "{'Saif': 'Naina', 'Rahul': 'Sofia', 'Raj': 'Jasmine'}\n"
          ]
        }
      ]
    },
    {
      "cell_type": "code",
      "source": [
        "#27. Write a code to create a list of 5 random numbers between 1 and 100, sort it in ascending order, and print the result.\n",
        "\n",
        "\"i don't remeber it was taught in module 4.\""
      ],
      "metadata": {
        "id": "im7MMmi7lIGf"
      },
      "execution_count": 72,
      "outputs": []
    },
    {
      "cell_type": "code",
      "source": [
        "#28. Write a code to create a list with strings and print the element at the third index.\n",
        "my_list = [\"plumber\", \"Doctor\", \"postman\", \"lawyer\", \"engineer\", \"nurse\"]\n",
        "print(my_list[3])"
      ],
      "metadata": {
        "colab": {
          "base_uri": "https://localhost:8080/"
        },
        "id": "r0-nnjAOmnwv",
        "outputId": "2ccf2438-bff7-4d07-c101-4caac3ac9c04"
      },
      "execution_count": 73,
      "outputs": [
        {
          "output_type": "stream",
          "name": "stdout",
          "text": [
            "lawyer\n"
          ]
        }
      ]
    },
    {
      "cell_type": "code",
      "source": [
        "#29. Write a code to combine two dictionaries into one and print the result.\n",
        "\n",
        "dict_1 = {\"parrot\": 20, \"tiger\": 5, \"lion\": 2, \"wolf\":1}\n",
        "dict_2 = {\"sky\": \"blue\", \"height\": 5.7, \"distance\": 100}\n",
        "\n",
        "combined_dict = {**dict_1, **dict_2}\n",
        "print(combined_dict)\n",
        "print(type(combined_dict))"
      ],
      "metadata": {
        "colab": {
          "base_uri": "https://localhost:8080/"
        },
        "id": "S132K9ICnZRh",
        "outputId": "6f437b02-6fce-4de8-cef0-808980dfd6be"
      },
      "execution_count": 85,
      "outputs": [
        {
          "output_type": "stream",
          "name": "stdout",
          "text": [
            "{'parrot': 20, 'tiger': 5, 'lion': 2, 'wolf': 1, 'sky': 'blue', 'height': 5.7, 'distance': 100}\n",
            "<class 'dict'>\n"
          ]
        }
      ]
    },
    {
      "cell_type": "code",
      "source": [
        "#30. Write a code to convert a list of strings into a set.\n",
        "\n",
        "my_list = [\"page1\", \"book20\", \"english\", \"hindi\", \"tamil\"]\n",
        "my_set = set(my_list)\n",
        "print(my_set)\n",
        "print(type(my_set))"
      ],
      "metadata": {
        "colab": {
          "base_uri": "https://localhost:8080/"
        },
        "id": "sidGQiCrq1Eq",
        "outputId": "2bfb5b7d-f5a0-4cef-8a31-83f942afac41"
      },
      "execution_count": 87,
      "outputs": [
        {
          "output_type": "stream",
          "name": "stdout",
          "text": [
            "{'page1', 'english', 'hindi', 'tamil', 'book20'}\n",
            "<class 'set'>\n"
          ]
        }
      ]
    },
    {
      "cell_type": "code",
      "source": [],
      "metadata": {
        "id": "l0NxIKsWmmZt"
      },
      "execution_count": null,
      "outputs": []
    }
  ]
}